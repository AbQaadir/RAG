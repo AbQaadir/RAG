{
 "cells": [
  {
   "cell_type": "code",
   "execution_count": 2,
   "metadata": {},
   "outputs": [],
   "source": [
    "from langchain.llms import Ollama"
   ]
  },
  {
   "cell_type": "code",
   "execution_count": 3,
   "metadata": {},
   "outputs": [],
   "source": [
    "llama3 = Ollama(\n",
    "    base_url = \"http://localhost:11434\", model = \"llama3\"\n",
    ")"
   ]
  },
  {
   "cell_type": "code",
   "execution_count": 4,
   "metadata": {},
   "outputs": [
    {
     "name": "stderr",
     "output_type": "stream",
     "text": [
      "c:\\Users\\Abdul Qaadir\\.conda\\envs\\llama3\\lib\\site-packages\\langchain_core\\_api\\deprecation.py:119: LangChainDeprecationWarning: The method `BaseLLM.__call__` was deprecated in langchain-core 0.1.7 and will be removed in 0.2.0. Use invoke instead.\n",
      "  warn_deprecated(\n"
     ]
    },
    {
     "name": "stdout",
     "output_type": "stream",
     "text": [
      "The translation of \"Hello, how are you?\" from English to Spanish is:\n",
      "\n",
      "\"Hola, ¿cómo estás?\"\n",
      "\n",
      "Here's a breakdown of the translation:\n",
      "\n",
      "* \"Hello\" remains the same in both languages.\n",
      "* \"how\" translates to \"cómo\".\n",
      "* \"are\" translates to \"estás\", which is the correct verb form for asking about someone's current state (in this case, their well-being or condition).\n",
      "* \"you\" translates to \"tú\" (informal) or \"usted\" (formal), but since it's a greeting, \"tú\" is more commonly used.\n"
     ]
    }
   ],
   "source": [
    "TEXT_PROMPT = \"Translate the following text from English to Spanish: 'Hello, how are you?'\"\n",
    "print(llama3(TEXT_PROMPT))"
   ]
  },
  {
   "cell_type": "code",
   "execution_count": null,
   "metadata": {},
   "outputs": [],
   "source": []
  }
 ],
 "metadata": {
  "kernelspec": {
   "display_name": "llama3",
   "language": "python",
   "name": "python3"
  },
  "language_info": {
   "codemirror_mode": {
    "name": "ipython",
    "version": 3
   },
   "file_extension": ".py",
   "mimetype": "text/x-python",
   "name": "python",
   "nbconvert_exporter": "python",
   "pygments_lexer": "ipython3",
   "version": "3.10.14"
  }
 },
 "nbformat": 4,
 "nbformat_minor": 2
}
